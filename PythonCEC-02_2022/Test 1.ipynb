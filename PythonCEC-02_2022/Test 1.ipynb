{
 "cells": [
  {
   "cell_type": "markdown",
   "id": "0934b33d",
   "metadata": {},
   "source": [
    "#Manual de uso de Cuadernos"
   ]
  },
  {
   "cell_type": "markdown",
   "id": "224be1c1",
   "metadata": {},
   "source": [
    "Este el manual para el uso de cuardenos en el CEC-EPN"
   ]
  },
  {
   "cell_type": "code",
   "execution_count": 1,
   "id": "cb1ed99b",
   "metadata": {},
   "outputs": [
    {
     "data": {
      "text/plain": [
       "10"
      ]
     },
     "execution_count": 1,
     "metadata": {},
     "output_type": "execute_result"
    }
   ],
   "source": [
    "5+5"
   ]
  },
  {
   "cell_type": "code",
   "execution_count": 2,
   "id": "b383d798",
   "metadata": {},
   "outputs": [
    {
     "data": {
      "text/plain": [
       "'santiago'"
      ]
     },
     "execution_count": 2,
     "metadata": {},
     "output_type": "execute_result"
    }
   ],
   "source": [
    "\"santiago\""
   ]
  },
  {
   "cell_type": "code",
   "execution_count": null,
   "id": "9931a6b6",
   "metadata": {},
   "outputs": [],
   "source": []
  }
 ],
 "metadata": {
  "kernelspec": {
   "display_name": "Python 3 (ipykernel)",
   "language": "python",
   "name": "python3"
  },
  "language_info": {
   "codemirror_mode": {
    "name": "ipython",
    "version": 3
   },
   "file_extension": ".py",
   "mimetype": "text/x-python",
   "name": "python",
   "nbconvert_exporter": "python",
   "pygments_lexer": "ipython3",
   "version": "3.9.7"
  }
 },
 "nbformat": 4,
 "nbformat_minor": 5
}
